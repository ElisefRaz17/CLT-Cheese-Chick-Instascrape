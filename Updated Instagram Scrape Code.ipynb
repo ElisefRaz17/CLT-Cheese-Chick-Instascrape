{
 "cells": [
  {
   "cell_type": "code",
   "execution_count": 5,
   "metadata": {
    "scrolled": true
   },
   "outputs": [
    {
     "name": "stdout",
     "output_type": "stream",
     "text": [
      "Collecting insta-scrape\n",
      "  Downloading insta_scrape-1.7.1-py3-none-any.whl (25 kB)\n",
      "Requirement already satisfied: beautifulsoup4 in c:\\users\\elise\\anaconda3\\lib\\site-packages (from insta-scrape) (4.9.3)\n",
      "Requirement already satisfied: requests in c:\\users\\elise\\anaconda3\\lib\\site-packages (from insta-scrape) (2.24.0)\n",
      "Requirement already satisfied: soupsieve>1.2; python_version >= \"3.0\" in c:\\users\\elise\\anaconda3\\lib\\site-packages (from beautifulsoup4->insta-scrape) (2.0.1)\n",
      "Requirement already satisfied: urllib3!=1.25.0,!=1.25.1,<1.26,>=1.21.1 in c:\\users\\elise\\anaconda3\\lib\\site-packages (from requests->insta-scrape) (1.25.11)\n",
      "Requirement already satisfied: idna<3,>=2.5 in c:\\users\\elise\\anaconda3\\lib\\site-packages (from requests->insta-scrape) (2.10)\n",
      "Requirement already satisfied: certifi>=2017.4.17 in c:\\users\\elise\\anaconda3\\lib\\site-packages (from requests->insta-scrape) (2020.6.20)\n",
      "Requirement already satisfied: chardet<4,>=3.0.2 in c:\\users\\elise\\anaconda3\\lib\\site-packages (from requests->insta-scrape) (3.0.4)\n",
      "Installing collected packages: insta-scrape\n",
      "Successfully installed insta-scrape-1.7.1\n",
      "Note: you may need to restart the kernel to use updated packages.\n"
     ]
    }
   ],
   "source": [
    "pip install insta-scrape"
   ]
  },
  {
   "cell_type": "code",
   "execution_count": 1,
   "metadata": {},
   "outputs": [],
   "source": [
    "from instascrape import *"
   ]
  },
  {
   "cell_type": "code",
   "execution_count": 7,
   "metadata": {},
   "outputs": [
    {
     "name": "stderr",
     "output_type": "stream",
     "text": [
      "C:\\Users\\elise\\anaconda3\\lib\\site-packages\\ipykernel\\ipkernel.py:287: DeprecationWarning: `should_run_async` will not call `transform_cell` automatically in the future. Please pass the result to `transformed_cell` argument and any exception that happen during thetransform in `preprocessing_exc_tuple` in IPython 7.17 and above.\n",
      "  and should_run_async(code)\n"
     ]
    },
    {
     "name": "stdout",
     "output_type": "stream",
     "text": [
      "Requirement already satisfied: install in c:\\users\\elise\\anaconda3\\lib\\site-packages (1.3.4)\n",
      "Requirement already satisfied: ipython==7.10.0 in c:\\users\\elise\\anaconda3\\lib\\site-packages (7.10.0)\n",
      "Requirement already satisfied: backcall in c:\\users\\elise\\anaconda3\\lib\\site-packages (from ipython==7.10.0) (0.2.0)\n",
      "Requirement already satisfied: traitlets>=4.2 in c:\\users\\elise\\anaconda3\\lib\\site-packages (from ipython==7.10.0) (5.0.5)\n",
      "Requirement already satisfied: colorama; sys_platform == \"win32\" in c:\\users\\elise\\anaconda3\\lib\\site-packages (from ipython==7.10.0) (0.4.4)\n",
      "Requirement already satisfied: prompt-toolkit<3.1.0,>=2.0.0 in c:\\users\\elise\\anaconda3\\lib\\site-packages (from ipython==7.10.0) (3.0.8)\n",
      "Requirement already satisfied: setuptools>=18.5 in c:\\users\\elise\\anaconda3\\lib\\site-packages (from ipython==7.10.0) (50.3.1.post20201107)\n",
      "Requirement already satisfied: jedi>=0.10 in c:\\users\\elise\\anaconda3\\lib\\site-packages (from ipython==7.10.0) (0.17.1)\n",
      "Requirement already satisfied: pygments in c:\\users\\elise\\anaconda3\\lib\\site-packages (from ipython==7.10.0) (2.7.2)\n",
      "Requirement already satisfied: decorator in c:\\users\\elise\\anaconda3\\lib\\site-packages (from ipython==7.10.0) (4.4.2)\n",
      "Requirement already satisfied: pickleshare in c:\\users\\elise\\anaconda3\\lib\\site-packages (from ipython==7.10.0) (0.7.5)\n",
      "Requirement already satisfied: ipython-genutils in c:\\users\\elise\\anaconda3\\lib\\site-packages (from traitlets>=4.2->ipython==7.10.0) (0.2.0)\n",
      "Requirement already satisfied: wcwidth in c:\\users\\elise\\anaconda3\\lib\\site-packages (from prompt-toolkit<3.1.0,>=2.0.0->ipython==7.10.0) (0.2.5)\n",
      "Requirement already satisfied: parso<0.8.0,>=0.7.0 in c:\\users\\elise\\anaconda3\\lib\\site-packages (from jedi>=0.10->ipython==7.10.0) (0.7.0)\n"
     ]
    }
   ],
   "source": [
    " !pip install install ipython==7.10.0"
   ]
  },
  {
   "cell_type": "code",
   "execution_count": 16,
   "metadata": {},
   "outputs": [],
   "source": [
    "from instascrape import *\n",
    "import pandas as pd \n",
    "from pandas.io.json import json_normalize\n"
   ]
  },
  {
   "cell_type": "code",
   "execution_count": 20,
   "metadata": {
    "scrolled": true
   },
   "outputs": [
    {
     "data": {
      "text/html": [
       "<div>\n",
       "<style scoped>\n",
       "    .dataframe tbody tr th:only-of-type {\n",
       "        vertical-align: middle;\n",
       "    }\n",
       "\n",
       "    .dataframe tbody tr th {\n",
       "        vertical-align: top;\n",
       "    }\n",
       "\n",
       "    .dataframe thead th {\n",
       "        text-align: right;\n",
       "    }\n",
       "</style>\n",
       "<table border=\"1\" class=\"dataframe\">\n",
       "  <thead>\n",
       "    <tr style=\"text-align: right;\">\n",
       "      <th></th>\n",
       "      <th>likes</th>\n",
       "      <th>comments</th>\n",
       "      <th>caption</th>\n",
       "      <th>timestamp</th>\n",
       "      <th>location</th>\n",
       "      <th>shortcode</th>\n",
       "    </tr>\n",
       "  </thead>\n",
       "  <tbody>\n",
       "    <tr>\n",
       "      <th>0</th>\n",
       "      <td>214</td>\n",
       "      <td>4</td>\n",
       "      <td>New year, SAME ME! ✨ It’s my 3rd year doing th...</td>\n",
       "      <td>1609693930</td>\n",
       "      <td>Charlotte, North Carolina</td>\n",
       "      <td>CJlzwVzJ1AX</td>\n",
       "    </tr>\n",
       "    <tr>\n",
       "      <th>1</th>\n",
       "      <td>210</td>\n",
       "      <td>5</td>\n",
       "      <td>Going to #topofftheholidays the best way I kno...</td>\n",
       "      <td>1609451758</td>\n",
       "      <td>Charlotte, North Carolina</td>\n",
       "      <td>CJel2aYpF20</td>\n",
       "    </tr>\n",
       "    <tr>\n",
       "      <th>2</th>\n",
       "      <td>242</td>\n",
       "      <td>8</td>\n",
       "      <td>Ringing in the new year with the energy I want...</td>\n",
       "      <td>1609343124</td>\n",
       "      <td>Charlotte, North Carolina</td>\n",
       "      <td>CJbWpUqJZDd</td>\n",
       "    </tr>\n",
       "    <tr>\n",
       "      <th>3</th>\n",
       "      <td>289</td>\n",
       "      <td>3</td>\n",
       "      <td>Merry Christmas from me n mine to you n yours!...</td>\n",
       "      <td>1608910009</td>\n",
       "      <td>Charlotte, North Carolina</td>\n",
       "      <td>CJOci66pQXW</td>\n",
       "    </tr>\n",
       "    <tr>\n",
       "      <th>4</th>\n",
       "      <td>203</td>\n",
       "      <td>4</td>\n",
       "      <td>All I want for the rest of 2020 is to make moo...</td>\n",
       "      <td>1608656076</td>\n",
       "      <td>Charlotte, North Carolina</td>\n",
       "      <td>CJG4NNXpak_</td>\n",
       "    </tr>\n",
       "    <tr>\n",
       "      <th>5</th>\n",
       "      <td>445</td>\n",
       "      <td>16</td>\n",
       "      <td>No meat? No prob! For all my veggies out there...</td>\n",
       "      <td>1608582924</td>\n",
       "      <td>Charlotte, North Carolina</td>\n",
       "      <td>CJEsrgoJ07D</td>\n",
       "    </tr>\n",
       "    <tr>\n",
       "      <th>6</th>\n",
       "      <td>459</td>\n",
       "      <td>7</td>\n",
       "      <td>If Santa is still asking what’s on your wish l...</td>\n",
       "      <td>1608397799</td>\n",
       "      <td>Charlotte, North Carolina</td>\n",
       "      <td>CI_LlRyJwip</td>\n",
       "    </tr>\n",
       "    <tr>\n",
       "      <th>7</th>\n",
       "      <td>603</td>\n",
       "      <td>37</td>\n",
       "      <td>#charcutewreath ready for her close up 🤩\\n⠀⠀⠀⠀...</td>\n",
       "      <td>1608223323</td>\n",
       "      <td>Charlotte, North Carolina</td>\n",
       "      <td>CI5-y-LpJw4</td>\n",
       "    </tr>\n",
       "    <tr>\n",
       "      <th>8</th>\n",
       "      <td>437</td>\n",
       "      <td>18</td>\n",
       "      <td>Honestly the Chanukah color palette is my favo...</td>\n",
       "      <td>1608134881</td>\n",
       "      <td>Charlotte, North Carolina</td>\n",
       "      <td>CI3WG1dJplp</td>\n",
       "    </tr>\n",
       "    <tr>\n",
       "      <th>9</th>\n",
       "      <td>354</td>\n",
       "      <td>9</td>\n",
       "      <td>Any OGs remember last years campfire board?? 🔥...</td>\n",
       "      <td>1608047875</td>\n",
       "      <td>Charlotte, North Carolina</td>\n",
       "      <td>CI0wJ-qJNcW</td>\n",
       "    </tr>\n",
       "    <tr>\n",
       "      <th>10</th>\n",
       "      <td>312</td>\n",
       "      <td>126</td>\n",
       "      <td>On the last day of Cheesemas, we’re celebratin...</td>\n",
       "      <td>1607803221</td>\n",
       "      <td>Charlotte, North Carolina</td>\n",
       "      <td>CItdg7NpyW6</td>\n",
       "    </tr>\n",
       "    <tr>\n",
       "      <th>11</th>\n",
       "      <td>714</td>\n",
       "      <td>682</td>\n",
       "      <td>On the 1️⃣1️⃣th day of Cheesemas, I’m giving a...</td>\n",
       "      <td>1607700622</td>\n",
       "      <td>Charlotte, North Carolina</td>\n",
       "      <td>CIqZ0lrJTK2</td>\n",
       "    </tr>\n",
       "  </tbody>\n",
       "</table>\n",
       "</div>"
      ],
      "text/plain": [
       "    likes  comments                                            caption  \\\n",
       "0     214         4  New year, SAME ME! ✨ It’s my 3rd year doing th...   \n",
       "1     210         5  Going to #topofftheholidays the best way I kno...   \n",
       "2     242         8  Ringing in the new year with the energy I want...   \n",
       "3     289         3  Merry Christmas from me n mine to you n yours!...   \n",
       "4     203         4  All I want for the rest of 2020 is to make moo...   \n",
       "5     445        16  No meat? No prob! For all my veggies out there...   \n",
       "6     459         7  If Santa is still asking what’s on your wish l...   \n",
       "7     603        37  #charcutewreath ready for her close up 🤩\\n⠀⠀⠀⠀...   \n",
       "8     437        18  Honestly the Chanukah color palette is my favo...   \n",
       "9     354         9  Any OGs remember last years campfire board?? 🔥...   \n",
       "10    312       126  On the last day of Cheesemas, we’re celebratin...   \n",
       "11    714       682  On the 1️⃣1️⃣th day of Cheesemas, I’m giving a...   \n",
       "\n",
       "     timestamp                   location    shortcode  \n",
       "0   1609693930  Charlotte, North Carolina  CJlzwVzJ1AX  \n",
       "1   1609451758  Charlotte, North Carolina  CJel2aYpF20  \n",
       "2   1609343124  Charlotte, North Carolina  CJbWpUqJZDd  \n",
       "3   1608910009  Charlotte, North Carolina  CJOci66pQXW  \n",
       "4   1608656076  Charlotte, North Carolina  CJG4NNXpak_  \n",
       "5   1608582924  Charlotte, North Carolina  CJEsrgoJ07D  \n",
       "6   1608397799  Charlotte, North Carolina  CI_LlRyJwip  \n",
       "7   1608223323  Charlotte, North Carolina  CI5-y-LpJw4  \n",
       "8   1608134881  Charlotte, North Carolina  CI3WG1dJplp  \n",
       "9   1608047875  Charlotte, North Carolina  CI0wJ-qJNcW  \n",
       "10  1607803221  Charlotte, North Carolina  CItdg7NpyW6  \n",
       "11  1607700622  Charlotte, North Carolina  CIqZ0lrJTK2  "
      ]
     },
     "execution_count": 20,
     "metadata": {},
     "output_type": "execute_result"
    }
   ],
   "source": [
    "\n",
    "\n",
    "# Instantiate the scraper objects \n",
    "cltcheesechick = Profile('https://www.instagram.com/cltcheesechick/')\n",
    "cltcheesechick_post = Post('https://www.instagram.com/p/CJG4NNXpak_/')\n",
    "cltcheesechick_hashtag = Hashtag('https://www.instagram.com/explore/tags/cltcheesechick/')\n",
    "\n",
    "# Scrape their respective data \n",
    "cltcheesechick.scrape()\n",
    "cltcheesechick_post.scrape()\n",
    "cltcheesechick_hashtag.scrape()\n",
    "\n",
    "recent_posts = cltcheesechick.get_recent_posts()\n",
    "posts_data = [post.to_dict() for post in recent_posts]\n",
    "#posts_df = pd.DataFrame(posts_data, columns= [\"likes\",\"comments\",\"caption\",\"timestamp\",\"location\",\"shortcode\"])\n",
    "pd.DataFrame(posts_data, columns= [\"likes\",\"comments\",\"caption\",\"timestamp\",\"location\",\"shortcode\"])\n",
    "\n"
   ]
  },
  {
   "cell_type": "code",
   "execution_count": null,
   "metadata": {},
   "outputs": [],
   "source": []
  }
 ],
 "metadata": {
  "kernelspec": {
   "display_name": "Python 3",
   "language": "python",
   "name": "python3"
  },
  "language_info": {
   "codemirror_mode": {
    "name": "ipython",
    "version": 3
   },
   "file_extension": ".py",
   "mimetype": "text/x-python",
   "name": "python",
   "nbconvert_exporter": "python",
   "pygments_lexer": "ipython3",
   "version": "3.8.5"
  }
 },
 "nbformat": 4,
 "nbformat_minor": 4
}
